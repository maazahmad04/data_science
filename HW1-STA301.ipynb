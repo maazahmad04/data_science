{
 "cells": [
  {
   "cell_type": "code",
   "execution_count": 121,
   "id": "ff7273b4",
   "metadata": {},
   "outputs": [],
   "source": [
    "# Importing the required libraries\n",
    "import pandas as pd\n",
    "import matplotlib.pyplot as plt\n",
    "import numpy as np\n",
    "import math\n",
    "import scipy.stats as ss\n",
    "import seaborn as sns\n",
    "\n",
    "df = pd.read_csv('dubai_properties.csv')"
   ]
  },
  {
   "cell_type": "code",
   "execution_count": 122,
   "id": "44314e73",
   "metadata": {},
   "outputs": [
    {
     "data": {
      "text/html": [
       "<div>\n",
       "<style scoped>\n",
       "    .dataframe tbody tr th:only-of-type {\n",
       "        vertical-align: middle;\n",
       "    }\n",
       "\n",
       "    .dataframe tbody tr th {\n",
       "        vertical-align: top;\n",
       "    }\n",
       "\n",
       "    .dataframe thead th {\n",
       "        text-align: right;\n",
       "    }\n",
       "</style>\n",
       "<table border=\"1\" class=\"dataframe\">\n",
       "  <thead>\n",
       "    <tr style=\"text-align: right;\">\n",
       "      <th></th>\n",
       "      <th>Address</th>\n",
       "      <th>Rent</th>\n",
       "      <th>Beds</th>\n",
       "      <th>Baths</th>\n",
       "      <th>Type</th>\n",
       "      <th>Area_in_sqft</th>\n",
       "      <th>Rent_per_sqft</th>\n",
       "      <th>Rent_category</th>\n",
       "      <th>Frequency</th>\n",
       "      <th>Furnishing</th>\n",
       "      <th>Purpose</th>\n",
       "      <th>Posted_date</th>\n",
       "      <th>Age_of_listing_in_days</th>\n",
       "      <th>Location</th>\n",
       "      <th>City</th>\n",
       "      <th>Latitude</th>\n",
       "      <th>Longitude</th>\n",
       "    </tr>\n",
       "  </thead>\n",
       "  <tbody>\n",
       "    <tr>\n",
       "      <th>0</th>\n",
       "      <td>The Gate Tower 2, The Gate Tower, Shams Gate D...</td>\n",
       "      <td>124000</td>\n",
       "      <td>3</td>\n",
       "      <td>4</td>\n",
       "      <td>Apartment</td>\n",
       "      <td>1785</td>\n",
       "      <td>69.467787</td>\n",
       "      <td>Medium</td>\n",
       "      <td>Yearly</td>\n",
       "      <td>Unfurnished</td>\n",
       "      <td>For Rent</td>\n",
       "      <td>07/03/2024</td>\n",
       "      <td>45</td>\n",
       "      <td>Al Reem Island</td>\n",
       "      <td>Abu Dhabi</td>\n",
       "      <td>24.4935984</td>\n",
       "      <td>54.40784051</td>\n",
       "    </tr>\n",
       "    <tr>\n",
       "      <th>1</th>\n",
       "      <td>Water's Edge, Yas Island, Abu Dhabi</td>\n",
       "      <td>140000</td>\n",
       "      <td>3</td>\n",
       "      <td>4</td>\n",
       "      <td>Apartment</td>\n",
       "      <td>1422</td>\n",
       "      <td>98.452883</td>\n",
       "      <td>Medium</td>\n",
       "      <td>Yearly</td>\n",
       "      <td>Unfurnished</td>\n",
       "      <td>For Rent</td>\n",
       "      <td>08/03/2024</td>\n",
       "      <td>44</td>\n",
       "      <td>Yas Island</td>\n",
       "      <td>Abu Dhabi</td>\n",
       "      <td>24.4940223</td>\n",
       "      <td>54.6073721</td>\n",
       "    </tr>\n",
       "    <tr>\n",
       "      <th>2</th>\n",
       "      <td>Al Raha Lofts, Al Raha Beach, Abu Dhabi</td>\n",
       "      <td>99000</td>\n",
       "      <td>2</td>\n",
       "      <td>3</td>\n",
       "      <td>Apartment</td>\n",
       "      <td>1314</td>\n",
       "      <td>75.342466</td>\n",
       "      <td>Medium</td>\n",
       "      <td>Yearly</td>\n",
       "      <td>Furnished</td>\n",
       "      <td>For Rent</td>\n",
       "      <td>21/03/2024</td>\n",
       "      <td>31</td>\n",
       "      <td>Al Raha Beach</td>\n",
       "      <td>Abu Dhabi</td>\n",
       "      <td>24.48593095</td>\n",
       "      <td>54.60093933</td>\n",
       "    </tr>\n",
       "    <tr>\n",
       "      <th>3</th>\n",
       "      <td>Marina Heights, Marina Square, Al Reem Island,...</td>\n",
       "      <td>220000</td>\n",
       "      <td>3</td>\n",
       "      <td>4</td>\n",
       "      <td>Penthouse</td>\n",
       "      <td>3843</td>\n",
       "      <td>57.246942</td>\n",
       "      <td>High</td>\n",
       "      <td>Yearly</td>\n",
       "      <td>Unfurnished</td>\n",
       "      <td>For Rent</td>\n",
       "      <td>24/02/2024</td>\n",
       "      <td>57</td>\n",
       "      <td>Al Reem Island</td>\n",
       "      <td>Abu Dhabi</td>\n",
       "      <td>24.4935984</td>\n",
       "      <td>54.40784051</td>\n",
       "    </tr>\n",
       "    <tr>\n",
       "      <th>4</th>\n",
       "      <td>West Yas, Yas Island, Abu Dhabi</td>\n",
       "      <td>350000</td>\n",
       "      <td>5</td>\n",
       "      <td>7</td>\n",
       "      <td>Villa</td>\n",
       "      <td>6860</td>\n",
       "      <td>51.020408</td>\n",
       "      <td>High</td>\n",
       "      <td>Yearly</td>\n",
       "      <td>Unfurnished</td>\n",
       "      <td>For Rent</td>\n",
       "      <td>16/02/2024</td>\n",
       "      <td>65</td>\n",
       "      <td>Yas Island</td>\n",
       "      <td>Abu Dhabi</td>\n",
       "      <td>24.4940223</td>\n",
       "      <td>54.6073721</td>\n",
       "    </tr>\n",
       "    <tr>\n",
       "      <th>...</th>\n",
       "      <td>...</td>\n",
       "      <td>...</td>\n",
       "      <td>...</td>\n",
       "      <td>...</td>\n",
       "      <td>...</td>\n",
       "      <td>...</td>\n",
       "      <td>...</td>\n",
       "      <td>...</td>\n",
       "      <td>...</td>\n",
       "      <td>...</td>\n",
       "      <td>...</td>\n",
       "      <td>...</td>\n",
       "      <td>...</td>\n",
       "      <td>...</td>\n",
       "      <td>...</td>\n",
       "      <td>...</td>\n",
       "      <td>...</td>\n",
       "    </tr>\n",
       "    <tr>\n",
       "      <th>73736</th>\n",
       "      <td>Al Huboob 1, Al Salamah, Umm Al Quwain</td>\n",
       "      <td>14000</td>\n",
       "      <td>0</td>\n",
       "      <td>1</td>\n",
       "      <td>Apartment</td>\n",
       "      <td>419</td>\n",
       "      <td>33.412888</td>\n",
       "      <td>Low</td>\n",
       "      <td>Yearly</td>\n",
       "      <td>Unfurnished</td>\n",
       "      <td>For Rent</td>\n",
       "      <td>14/12/2023</td>\n",
       "      <td>129</td>\n",
       "      <td>Al Salamah</td>\n",
       "      <td>Umm Al Quwain</td>\n",
       "      <td>25.4934115</td>\n",
       "      <td>55.5759942</td>\n",
       "    </tr>\n",
       "    <tr>\n",
       "      <th>73737</th>\n",
       "      <td>Umm Al Quwain Marina, Umm Al Quwain</td>\n",
       "      <td>14000</td>\n",
       "      <td>0</td>\n",
       "      <td>1</td>\n",
       "      <td>Apartment</td>\n",
       "      <td>500</td>\n",
       "      <td>28.000000</td>\n",
       "      <td>Low</td>\n",
       "      <td>Yearly</td>\n",
       "      <td>Unfurnished</td>\n",
       "      <td>For Rent</td>\n",
       "      <td>14/12/2023</td>\n",
       "      <td>129</td>\n",
       "      <td>Umm Al Quwain Marina</td>\n",
       "      <td>Umm Al Quwain</td>\n",
       "      <td>25.527959</td>\n",
       "      <td>55.6065272</td>\n",
       "    </tr>\n",
       "    <tr>\n",
       "      <th>73738</th>\n",
       "      <td>King Faisal Street, Umm Al Quwain</td>\n",
       "      <td>50000</td>\n",
       "      <td>3</td>\n",
       "      <td>4</td>\n",
       "      <td>Apartment</td>\n",
       "      <td>2000</td>\n",
       "      <td>25.000000</td>\n",
       "      <td>Low</td>\n",
       "      <td>Yearly</td>\n",
       "      <td>Unfurnished</td>\n",
       "      <td>For Rent</td>\n",
       "      <td>02/01/2024</td>\n",
       "      <td>110</td>\n",
       "      <td>King Faisal Street</td>\n",
       "      <td>Umm Al Quwain</td>\n",
       "      <td>*</td>\n",
       "      <td>*</td>\n",
       "    </tr>\n",
       "    <tr>\n",
       "      <th>73739</th>\n",
       "      <td>Al Maqtaa, Umm Al Quwain</td>\n",
       "      <td>37000</td>\n",
       "      <td>1</td>\n",
       "      <td>2</td>\n",
       "      <td>Apartment</td>\n",
       "      <td>989</td>\n",
       "      <td>37.411527</td>\n",
       "      <td>Low</td>\n",
       "      <td>Yearly</td>\n",
       "      <td>Unfurnished</td>\n",
       "      <td>For Rent</td>\n",
       "      <td>23/10/2023</td>\n",
       "      <td>181</td>\n",
       "      <td>Al Maqtaa</td>\n",
       "      <td>Umm Al Quwain</td>\n",
       "      <td>*</td>\n",
       "      <td>*</td>\n",
       "    </tr>\n",
       "    <tr>\n",
       "      <th>73740</th>\n",
       "      <td>Al Rass, Umm Al Quwain</td>\n",
       "      <td>11000</td>\n",
       "      <td>0</td>\n",
       "      <td>1</td>\n",
       "      <td>Apartment</td>\n",
       "      <td>300</td>\n",
       "      <td>36.666667</td>\n",
       "      <td>Low</td>\n",
       "      <td>Yearly</td>\n",
       "      <td>Unfurnished</td>\n",
       "      <td>For Rent</td>\n",
       "      <td>12/02/2024</td>\n",
       "      <td>69</td>\n",
       "      <td>Al Rass</td>\n",
       "      <td>Umm Al Quwain</td>\n",
       "      <td>*</td>\n",
       "      <td>*</td>\n",
       "    </tr>\n",
       "  </tbody>\n",
       "</table>\n",
       "<p>73741 rows × 17 columns</p>\n",
       "</div>"
      ],
      "text/plain": [
       "                                                 Address    Rent  Beds  Baths  \\\n",
       "0      The Gate Tower 2, The Gate Tower, Shams Gate D...  124000     3      4   \n",
       "1                    Water's Edge, Yas Island, Abu Dhabi  140000     3      4   \n",
       "2                Al Raha Lofts, Al Raha Beach, Abu Dhabi   99000     2      3   \n",
       "3      Marina Heights, Marina Square, Al Reem Island,...  220000     3      4   \n",
       "4                        West Yas, Yas Island, Abu Dhabi  350000     5      7   \n",
       "...                                                  ...     ...   ...    ...   \n",
       "73736             Al Huboob 1, Al Salamah, Umm Al Quwain   14000     0      1   \n",
       "73737                Umm Al Quwain Marina, Umm Al Quwain   14000     0      1   \n",
       "73738                  King Faisal Street, Umm Al Quwain   50000     3      4   \n",
       "73739                           Al Maqtaa, Umm Al Quwain   37000     1      2   \n",
       "73740                             Al Rass, Umm Al Quwain   11000     0      1   \n",
       "\n",
       "            Type  Area_in_sqft  Rent_per_sqft Rent_category Frequency  \\\n",
       "0      Apartment          1785      69.467787        Medium    Yearly   \n",
       "1      Apartment          1422      98.452883        Medium    Yearly   \n",
       "2      Apartment          1314      75.342466        Medium    Yearly   \n",
       "3      Penthouse          3843      57.246942          High    Yearly   \n",
       "4          Villa          6860      51.020408          High    Yearly   \n",
       "...          ...           ...            ...           ...       ...   \n",
       "73736  Apartment           419      33.412888           Low    Yearly   \n",
       "73737  Apartment           500      28.000000           Low    Yearly   \n",
       "73738  Apartment          2000      25.000000           Low    Yearly   \n",
       "73739  Apartment           989      37.411527           Low    Yearly   \n",
       "73740  Apartment           300      36.666667           Low    Yearly   \n",
       "\n",
       "        Furnishing   Purpose Posted_date  Age_of_listing_in_days  \\\n",
       "0      Unfurnished  For Rent  07/03/2024                      45   \n",
       "1      Unfurnished  For Rent  08/03/2024                      44   \n",
       "2        Furnished  For Rent  21/03/2024                      31   \n",
       "3      Unfurnished  For Rent  24/02/2024                      57   \n",
       "4      Unfurnished  For Rent  16/02/2024                      65   \n",
       "...            ...       ...         ...                     ...   \n",
       "73736  Unfurnished  For Rent  14/12/2023                     129   \n",
       "73737  Unfurnished  For Rent  14/12/2023                     129   \n",
       "73738  Unfurnished  For Rent  02/01/2024                     110   \n",
       "73739  Unfurnished  For Rent  23/10/2023                     181   \n",
       "73740  Unfurnished  For Rent  12/02/2024                      69   \n",
       "\n",
       "                   Location           City     Latitude    Longitude  \n",
       "0            Al Reem Island      Abu Dhabi   24.4935984  54.40784051  \n",
       "1                Yas Island      Abu Dhabi   24.4940223   54.6073721  \n",
       "2             Al Raha Beach      Abu Dhabi  24.48593095  54.60093933  \n",
       "3            Al Reem Island      Abu Dhabi   24.4935984  54.40784051  \n",
       "4                Yas Island      Abu Dhabi   24.4940223   54.6073721  \n",
       "...                     ...            ...          ...          ...  \n",
       "73736            Al Salamah  Umm Al Quwain   25.4934115   55.5759942  \n",
       "73737  Umm Al Quwain Marina  Umm Al Quwain    25.527959   55.6065272  \n",
       "73738    King Faisal Street  Umm Al Quwain            *            *  \n",
       "73739             Al Maqtaa  Umm Al Quwain            *            *  \n",
       "73740               Al Rass  Umm Al Quwain            *            *  \n",
       "\n",
       "[73741 rows x 17 columns]"
      ]
     },
     "execution_count": 122,
     "metadata": {},
     "output_type": "execute_result"
    }
   ],
   "source": [
    "df"
   ]
  },
  {
   "cell_type": "code",
   "execution_count": 123,
   "id": "ec869dd4",
   "metadata": {},
   "outputs": [
    {
     "data": {
      "text/html": [
       "<div>\n",
       "<style scoped>\n",
       "    .dataframe tbody tr th:only-of-type {\n",
       "        vertical-align: middle;\n",
       "    }\n",
       "\n",
       "    .dataframe tbody tr th {\n",
       "        vertical-align: top;\n",
       "    }\n",
       "\n",
       "    .dataframe thead th {\n",
       "        text-align: right;\n",
       "    }\n",
       "</style>\n",
       "<table border=\"1\" class=\"dataframe\">\n",
       "  <thead>\n",
       "    <tr style=\"text-align: right;\">\n",
       "      <th></th>\n",
       "      <th>Rent</th>\n",
       "      <th>Beds</th>\n",
       "      <th>Baths</th>\n",
       "      <th>Area_in_sqft</th>\n",
       "      <th>Rent_per_sqft</th>\n",
       "      <th>Age_of_listing_in_days</th>\n",
       "    </tr>\n",
       "  </thead>\n",
       "  <tbody>\n",
       "    <tr>\n",
       "      <th>count</th>\n",
       "      <td>7.374100e+04</td>\n",
       "      <td>73741.000000</td>\n",
       "      <td>73741.000000</td>\n",
       "      <td>73741.000000</td>\n",
       "      <td>73741.000000</td>\n",
       "      <td>73741.000000</td>\n",
       "    </tr>\n",
       "    <tr>\n",
       "      <th>mean</th>\n",
       "      <td>1.471812e+05</td>\n",
       "      <td>2.162691</td>\n",
       "      <td>2.650222</td>\n",
       "      <td>2052.324229</td>\n",
       "      <td>88.053192</td>\n",
       "      <td>74.262256</td>\n",
       "    </tr>\n",
       "    <tr>\n",
       "      <th>std</th>\n",
       "      <td>2.311419e+05</td>\n",
       "      <td>1.577830</td>\n",
       "      <td>1.633006</td>\n",
       "      <td>2967.005348</td>\n",
       "      <td>66.523317</td>\n",
       "      <td>72.347001</td>\n",
       "    </tr>\n",
       "    <tr>\n",
       "      <th>min</th>\n",
       "      <td>0.000000e+00</td>\n",
       "      <td>0.000000</td>\n",
       "      <td>1.000000</td>\n",
       "      <td>74.000000</td>\n",
       "      <td>0.000000</td>\n",
       "      <td>11.000000</td>\n",
       "    </tr>\n",
       "    <tr>\n",
       "      <th>25%</th>\n",
       "      <td>5.499900e+04</td>\n",
       "      <td>1.000000</td>\n",
       "      <td>2.000000</td>\n",
       "      <td>850.000000</td>\n",
       "      <td>39.977778</td>\n",
       "      <td>30.000000</td>\n",
       "    </tr>\n",
       "    <tr>\n",
       "      <th>50%</th>\n",
       "      <td>9.800000e+04</td>\n",
       "      <td>2.000000</td>\n",
       "      <td>2.000000</td>\n",
       "      <td>1334.000000</td>\n",
       "      <td>71.428571</td>\n",
       "      <td>52.000000</td>\n",
       "    </tr>\n",
       "    <tr>\n",
       "      <th>75%</th>\n",
       "      <td>1.700000e+05</td>\n",
       "      <td>3.000000</td>\n",
       "      <td>3.000000</td>\n",
       "      <td>2130.000000</td>\n",
       "      <td>118.483412</td>\n",
       "      <td>95.000000</td>\n",
       "    </tr>\n",
       "    <tr>\n",
       "      <th>max</th>\n",
       "      <td>1.600000e+07</td>\n",
       "      <td>12.000000</td>\n",
       "      <td>11.000000</td>\n",
       "      <td>210254.000000</td>\n",
       "      <td>2182.044888</td>\n",
       "      <td>2276.000000</td>\n",
       "    </tr>\n",
       "  </tbody>\n",
       "</table>\n",
       "</div>"
      ],
      "text/plain": [
       "               Rent          Beds         Baths   Area_in_sqft  Rent_per_sqft  \\\n",
       "count  7.374100e+04  73741.000000  73741.000000   73741.000000   73741.000000   \n",
       "mean   1.471812e+05      2.162691      2.650222    2052.324229      88.053192   \n",
       "std    2.311419e+05      1.577830      1.633006    2967.005348      66.523317   \n",
       "min    0.000000e+00      0.000000      1.000000      74.000000       0.000000   \n",
       "25%    5.499900e+04      1.000000      2.000000     850.000000      39.977778   \n",
       "50%    9.800000e+04      2.000000      2.000000    1334.000000      71.428571   \n",
       "75%    1.700000e+05      3.000000      3.000000    2130.000000     118.483412   \n",
       "max    1.600000e+07     12.000000     11.000000  210254.000000    2182.044888   \n",
       "\n",
       "       Age_of_listing_in_days  \n",
       "count            73741.000000  \n",
       "mean                74.262256  \n",
       "std                 72.347001  \n",
       "min                 11.000000  \n",
       "25%                 30.000000  \n",
       "50%                 52.000000  \n",
       "75%                 95.000000  \n",
       "max               2276.000000  "
      ]
     },
     "execution_count": 123,
     "metadata": {},
     "output_type": "execute_result"
    }
   ],
   "source": [
    "df.describe()\n"
   ]
  },
  {
   "cell_type": "code",
   "execution_count": 124,
   "id": "66d08660",
   "metadata": {},
   "outputs": [
    {
     "name": "stdout",
     "output_type": "stream",
     "text": [
      "<class 'pandas.core.frame.DataFrame'>\n",
      "RangeIndex: 73741 entries, 0 to 73740\n",
      "Data columns (total 17 columns):\n",
      " #   Column                  Non-Null Count  Dtype  \n",
      "---  ------                  --------------  -----  \n",
      " 0   Address                 73741 non-null  object \n",
      " 1   Rent                    73741 non-null  int64  \n",
      " 2   Beds                    73741 non-null  int64  \n",
      " 3   Baths                   73741 non-null  int64  \n",
      " 4   Type                    73741 non-null  object \n",
      " 5   Area_in_sqft            73741 non-null  int64  \n",
      " 6   Rent_per_sqft           73741 non-null  float64\n",
      " 7   Rent_category           73741 non-null  object \n",
      " 8   Frequency               73741 non-null  object \n",
      " 9   Furnishing              73741 non-null  object \n",
      " 10  Purpose                 73741 non-null  object \n",
      " 11  Posted_date             73741 non-null  object \n",
      " 12  Age_of_listing_in_days  73741 non-null  int64  \n",
      " 13  Location                73741 non-null  object \n",
      " 14  City                    73741 non-null  object \n",
      " 15  Latitude                73741 non-null  object \n",
      " 16  Longitude               73741 non-null  object \n",
      "dtypes: float64(1), int64(5), object(11)\n",
      "memory usage: 9.6+ MB\n"
     ]
    }
   ],
   "source": [
    "df.info()"
   ]
  },
  {
   "cell_type": "code",
   "execution_count": 125,
   "id": "685a9f05",
   "metadata": {},
   "outputs": [
    {
     "data": {
      "text/html": [
       "<div>\n",
       "<style scoped>\n",
       "    .dataframe tbody tr th:only-of-type {\n",
       "        vertical-align: middle;\n",
       "    }\n",
       "\n",
       "    .dataframe tbody tr th {\n",
       "        vertical-align: top;\n",
       "    }\n",
       "\n",
       "    .dataframe thead th {\n",
       "        text-align: right;\n",
       "    }\n",
       "</style>\n",
       "<table border=\"1\" class=\"dataframe\">\n",
       "  <thead>\n",
       "    <tr style=\"text-align: right;\">\n",
       "      <th></th>\n",
       "      <th>Address</th>\n",
       "      <th>Rent</th>\n",
       "      <th>Beds</th>\n",
       "      <th>Baths</th>\n",
       "      <th>Type</th>\n",
       "      <th>Area_in_sqft</th>\n",
       "      <th>Rent_per_sqft</th>\n",
       "      <th>Rent_category</th>\n",
       "      <th>Frequency</th>\n",
       "      <th>Furnishing</th>\n",
       "      <th>Purpose</th>\n",
       "      <th>Posted_date</th>\n",
       "      <th>Age_of_listing_in_days</th>\n",
       "      <th>Location</th>\n",
       "      <th>City</th>\n",
       "      <th>Latitude</th>\n",
       "      <th>Longitude</th>\n",
       "    </tr>\n",
       "  </thead>\n",
       "  <tbody>\n",
       "    <tr>\n",
       "      <th>33774</th>\n",
       "      <td>Palazzo Versace, Culture Village, Dubai</td>\n",
       "      <td>850000</td>\n",
       "      <td>4</td>\n",
       "      <td>2</td>\n",
       "      <td>Apartment</td>\n",
       "      <td>6444</td>\n",
       "      <td>131.905649</td>\n",
       "      <td>High</td>\n",
       "      <td>Yearly</td>\n",
       "      <td>Furnished</td>\n",
       "      <td>For Rent</td>\n",
       "      <td>12/09/2023</td>\n",
       "      <td>222</td>\n",
       "      <td>Culture Village</td>\n",
       "      <td>Dubai</td>\n",
       "      <td>25.22633235</td>\n",
       "      <td>55.33809781</td>\n",
       "    </tr>\n",
       "    <tr>\n",
       "      <th>37863</th>\n",
       "      <td>Aykon City Tower C, Aykon City, Business Bay, ...</td>\n",
       "      <td>140000</td>\n",
       "      <td>2</td>\n",
       "      <td>2</td>\n",
       "      <td>Apartment</td>\n",
       "      <td>813</td>\n",
       "      <td>172.201722</td>\n",
       "      <td>Medium</td>\n",
       "      <td>Yearly</td>\n",
       "      <td>Unfurnished</td>\n",
       "      <td>For Rent</td>\n",
       "      <td>04/04/2024</td>\n",
       "      <td>17</td>\n",
       "      <td>Business Bay</td>\n",
       "      <td>Dubai</td>\n",
       "      <td>25.18942655</td>\n",
       "      <td>55.26481902</td>\n",
       "    </tr>\n",
       "    <tr>\n",
       "      <th>22755</th>\n",
       "      <td>Sun Tower, Shams Gate District, Shams Abu Dhab...</td>\n",
       "      <td>120000</td>\n",
       "      <td>2</td>\n",
       "      <td>3</td>\n",
       "      <td>Apartment</td>\n",
       "      <td>1500</td>\n",
       "      <td>80.000000</td>\n",
       "      <td>Medium</td>\n",
       "      <td>Yearly</td>\n",
       "      <td>Unfurnished</td>\n",
       "      <td>For Rent</td>\n",
       "      <td>06/01/2024</td>\n",
       "      <td>106</td>\n",
       "      <td>Al Reem Island</td>\n",
       "      <td>Abu Dhabi</td>\n",
       "      <td>24.4935984</td>\n",
       "      <td>54.40784051</td>\n",
       "    </tr>\n",
       "    <tr>\n",
       "      <th>65051</th>\n",
       "      <td>Oasis Villas, Barashi, Sharjah</td>\n",
       "      <td>130000</td>\n",
       "      <td>5</td>\n",
       "      <td>7</td>\n",
       "      <td>Villa</td>\n",
       "      <td>11000</td>\n",
       "      <td>11.818182</td>\n",
       "      <td>Medium</td>\n",
       "      <td>Yearly</td>\n",
       "      <td>Unfurnished</td>\n",
       "      <td>For Rent</td>\n",
       "      <td>14/03/2024</td>\n",
       "      <td>38</td>\n",
       "      <td>Barashi</td>\n",
       "      <td>Sharjah</td>\n",
       "      <td>25.286124</td>\n",
       "      <td>55.582916</td>\n",
       "    </tr>\n",
       "    <tr>\n",
       "      <th>36745</th>\n",
       "      <td>Dukes The Palm, Palm Jumeirah, Dubai</td>\n",
       "      <td>105000</td>\n",
       "      <td>0</td>\n",
       "      <td>2</td>\n",
       "      <td>Apartment</td>\n",
       "      <td>344</td>\n",
       "      <td>305.232558</td>\n",
       "      <td>Medium</td>\n",
       "      <td>Yearly</td>\n",
       "      <td>Furnished</td>\n",
       "      <td>For Rent</td>\n",
       "      <td>08/10/2023</td>\n",
       "      <td>196</td>\n",
       "      <td>Palm Jumeirah</td>\n",
       "      <td>Dubai</td>\n",
       "      <td>25.10019025</td>\n",
       "      <td>55.118535</td>\n",
       "    </tr>\n",
       "  </tbody>\n",
       "</table>\n",
       "</div>"
      ],
      "text/plain": [
       "                                                 Address    Rent  Beds  Baths  \\\n",
       "33774            Palazzo Versace, Culture Village, Dubai  850000     4      2   \n",
       "37863  Aykon City Tower C, Aykon City, Business Bay, ...  140000     2      2   \n",
       "22755  Sun Tower, Shams Gate District, Shams Abu Dhab...  120000     2      3   \n",
       "65051                     Oasis Villas, Barashi, Sharjah  130000     5      7   \n",
       "36745               Dukes The Palm, Palm Jumeirah, Dubai  105000     0      2   \n",
       "\n",
       "            Type  Area_in_sqft  Rent_per_sqft Rent_category Frequency  \\\n",
       "33774  Apartment          6444     131.905649          High    Yearly   \n",
       "37863  Apartment           813     172.201722        Medium    Yearly   \n",
       "22755  Apartment          1500      80.000000        Medium    Yearly   \n",
       "65051      Villa         11000      11.818182        Medium    Yearly   \n",
       "36745  Apartment           344     305.232558        Medium    Yearly   \n",
       "\n",
       "        Furnishing   Purpose Posted_date  Age_of_listing_in_days  \\\n",
       "33774    Furnished  For Rent  12/09/2023                     222   \n",
       "37863  Unfurnished  For Rent  04/04/2024                      17   \n",
       "22755  Unfurnished  For Rent  06/01/2024                     106   \n",
       "65051  Unfurnished  For Rent  14/03/2024                      38   \n",
       "36745    Furnished  For Rent  08/10/2023                     196   \n",
       "\n",
       "              Location       City     Latitude    Longitude  \n",
       "33774  Culture Village      Dubai  25.22633235  55.33809781  \n",
       "37863     Business Bay      Dubai  25.18942655  55.26481902  \n",
       "22755   Al Reem Island  Abu Dhabi   24.4935984  54.40784051  \n",
       "65051          Barashi    Sharjah    25.286124    55.582916  \n",
       "36745    Palm Jumeirah      Dubai  25.10019025    55.118535  "
      ]
     },
     "execution_count": 125,
     "metadata": {},
     "output_type": "execute_result"
    }
   ],
   "source": [
    "# a) Is the study an example of experimental design, observational study or mixed?\n",
    "# The study is an example of observational study. The researcher is not actively changing or affecting the factors. Instead, the researcher can only observe and gather data.\n",
    "\n",
    "# Randomly sample 5000 entries from the data set (without replacement) and use the resulting data set to answer parts (b-i).\n",
    "\n",
    "sampled_data = df.sample(5000)\n",
    "\n",
    "sampled_data.head()\n"
   ]
  },
  {
   "cell_type": "code",
   "execution_count": 126,
   "id": "9dc24e69",
   "metadata": {},
   "outputs": [
    {
     "name": "stdout",
     "output_type": "stream",
     "text": [
      "Frequency Counts:\n",
      " Unfurnished    3939\n",
      "Furnished      1061\n",
      "Name: Furnishing, dtype: int64\n",
      "\n",
      "Percentage Distribution:\n",
      " Unfurnished    78.78\n",
      "Furnished      21.22\n",
      "Name: Furnishing, dtype: float64\n"
     ]
    }
   ],
   "source": [
    "# b) Construct the frequency table of the “Furnishing” column and use the table to answer the following questions:\n",
    "#     i. Calculate the percentage of “furnished” properties.\n",
    "#     ii. Suppose you survey 50 renting properties across major cities in the UAE, what is the probability that 35 of them are furnished?\n",
    "\n",
    "# Find the frequency of values in the \"Furnishing\" column\n",
    "furnishing_frequency = sampled_data['Furnishing'].value_counts()\n",
    "\n",
    "# If you want to get the relative frequency (percentage), use the normalize parameter\n",
    "furnishing_percentage = sampled_data['Furnishing'].value_counts(normalize=True) * 100\n",
    "\n",
    "# Display the results\n",
    "print(\"Frequency Counts:\\n\", furnishing_frequency)\n",
    "print(\"\\nPercentage Distribution:\\n\", furnishing_percentage)"
   ]
  },
  {
   "cell_type": "code",
   "execution_count": 127,
   "id": "cd3f7d44",
   "metadata": {},
   "outputs": [
    {
     "name": "stdout",
     "output_type": "stream",
     "text": [
      "Furnished Probability: 1.7166056787054992e-13\n"
     ]
    }
   ],
   "source": [
    "# Probability of 35 out of 50 properties being furnished\n",
    "n = 50\n",
    "x = 35\n",
    "p_furnished = furnishing_percentage['Furnished'] / 100\n",
    "furnished_probability = ss.binom.pmf(x, n, p_furnished)\n",
    "print(\"Furnished Probability:\", furnished_probability)\n"
   ]
  },
  {
   "cell_type": "code",
   "execution_count": 128,
   "id": "95218041",
   "metadata": {},
   "outputs": [
    {
     "name": "stdout",
     "output_type": "stream",
     "text": [
      "Rent Category Counts:\n",
      " Medium    1779\n",
      "Low       1626\n",
      "High      1595\n",
      "Name: Rent_category, dtype: int64\n",
      "\n",
      "Percentage Distribution:\n",
      " Medium    35.58\n",
      "Low       32.52\n",
      "High      31.90\n",
      "Name: Rent_category, dtype: float64\n"
     ]
    }
   ],
   "source": [
    "# c) Construct a frequency table of the “Rent_category” columns and use the results to answer the following questions:\n",
    "#     i. Calculate the percentages of the three values “High”, “Medium” and “Low”.\n",
    "#     ii. Suppose you survey 50 properties across major cities in the UAE, what is the probability 15 are Low rent, 10 are Medium rent and the rest are of High rent?\n",
    "\n",
    "# Find the frequency of values in the \"Rent_category\" column\n",
    "rent_category_frequency = sampled_data['Rent_category'].value_counts()\n",
    "\n",
    "# If you want to get the relative frequency (percentage), use the normalize parameter\n",
    "rent_category_percentage = sampled_data['Rent_category'].value_counts(normalize=True) * 100\n",
    "\n",
    "# Display the results\n",
    "print(\"Rent Category Counts:\\n\", rent_category_frequency)\n",
    "print(\"\\nPercentage Distribution:\\n\", rent_category_percentage)\n"
   ]
  },
  {
   "cell_type": "code",
   "execution_count": 129,
   "id": "d1a194ff",
   "metadata": {},
   "outputs": [
    {
     "name": "stdout",
     "output_type": "stream",
     "text": [
      "Rent Probability: 0.00025424423694195655\n"
     ]
    }
   ],
   "source": [
    "\n",
    "# Probability of 15 Low, 10 Medium, 25 High rent properties\n",
    "n = 50\n",
    "x_low, x_medium, x_high = 15, 10, 25\n",
    "p_low = rent_category_percentage['Low'] / 100\n",
    "p_medium = rent_category_percentage['Medium'] / 100\n",
    "p_high = rent_category_percentage['High'] / 100\n",
    "\n",
    "rent_probability = ss.multinomial.pmf([x_low, x_medium, x_high],n,p=[p_low,p_medium,p_high])\n",
    "print(\"Rent Probability:\",rent_probability)"
   ]
  },
  {
   "cell_type": "code",
   "execution_count": 130,
   "id": "9e16b854",
   "metadata": {},
   "outputs": [
    {
     "name": "stdout",
     "output_type": "stream",
     "text": [
      "Probability of at most 1 with 2 bedrooms: 0.23399359386993066\n"
     ]
    }
   ],
   "source": [
    "# d) Suppose the average number of bedrooms for the rental properties in Dubai is 2. Suppose you survey some rental properties in Dubai, what is the probability that you find at most 1 of them with 2 bedrooms.\n",
    "\n",
    "dubai_data = sampled_data[sampled_data['City'] == 'Dubai']\n",
    "p_bedrooms_2 = dubai_data[\"Beds\"].value_counts()[2]/dubai_data[\"Beds\"].value_counts().sum()\n",
    "n_dubai=10 #surveying 10 properties lets say\n",
    "prob_at_most_1 = ss.binom.cdf(1, n_dubai, p_bedrooms_2)\n",
    "print(\"Probability of at most 1 with 2 bedrooms:\", prob_at_most_1)\n"
   ]
  },
  {
   "cell_type": "code",
   "execution_count": 131,
   "id": "938defe8",
   "metadata": {},
   "outputs": [
    {
     "data": {
      "text/plain": [
       "<Figure size 720x432 with 0 Axes>"
      ]
     },
     "metadata": {},
     "output_type": "display_data"
    },
    {
     "data": {
      "image/png": "[encoded data removed]",
      "text/plain": [
       "<Figure size 432x288 with 1 Axes>"
      ]
     },
     "metadata": {
      "needs_background": "light"
     },
     "output_type": "display_data"
    }
   ],
   "source": [
    "# e) Construct box plot chart of “Age_of_listing_in_days” by the variable “Furnishing”. Discuss the patterns you see in the plots and compare the central values, variability and skewness across the two Furnishing categories\n",
    "plt.figure(figsize=(10, 6))\n",
    "sampled_data.boxplot(column='Age_of_listing_in_days', by='Furnishing')\n",
    "plt.title('Box Plot of Age of Listing grouped by Furnishing')\n",
    "plt.ylim(0, 700)\n",
    "plt.show()\n",
    "# Central values for both furnsihed and unfurnished are almost same, unfurnished also clearly has a lot more variability,\n",
    "#both are right skewed, unfurnished has a lot more outliers in the high range. The boxplot indicates that\n",
    "# several outlier unfurnished apartments have a very high age of listing, so unfurnished apartments are more likely to be left unrented"
   ]
  },
  {
   "cell_type": "code",
   "execution_count": 132,
   "id": "cea73654",
   "metadata": {},
   "outputs": [
    {
     "data": {
      "text/html": [
       "<div>\n",
       "<style scoped>\n",
       "    .dataframe tbody tr th:only-of-type {\n",
       "        vertical-align: middle;\n",
       "    }\n",
       "\n",
       "    .dataframe tbody tr th {\n",
       "        vertical-align: top;\n",
       "    }\n",
       "\n",
       "    .dataframe thead th {\n",
       "        text-align: right;\n",
       "    }\n",
       "</style>\n",
       "<table border=\"1\" class=\"dataframe\">\n",
       "  <thead>\n",
       "    <tr style=\"text-align: right;\">\n",
       "      <th></th>\n",
       "      <th>count</th>\n",
       "      <th>mean</th>\n",
       "      <th>std</th>\n",
       "      <th>min</th>\n",
       "      <th>25%</th>\n",
       "      <th>50%</th>\n",
       "      <th>75%</th>\n",
       "      <th>max</th>\n",
       "    </tr>\n",
       "    <tr>\n",
       "      <th>Furnishing</th>\n",
       "      <th></th>\n",
       "      <th></th>\n",
       "      <th></th>\n",
       "      <th></th>\n",
       "      <th></th>\n",
       "      <th></th>\n",
       "      <th></th>\n",
       "      <th></th>\n",
       "    </tr>\n",
       "  </thead>\n",
       "  <tbody>\n",
       "    <tr>\n",
       "      <th>Furnished</th>\n",
       "      <td>1061.0</td>\n",
       "      <td>72.263902</td>\n",
       "      <td>60.388117</td>\n",
       "      <td>12.0</td>\n",
       "      <td>31.0</td>\n",
       "      <td>54.0</td>\n",
       "      <td>91.0</td>\n",
       "      <td>465.0</td>\n",
       "    </tr>\n",
       "    <tr>\n",
       "      <th>Unfurnished</th>\n",
       "      <td>3939.0</td>\n",
       "      <td>76.261234</td>\n",
       "      <td>75.721369</td>\n",
       "      <td>12.0</td>\n",
       "      <td>30.0</td>\n",
       "      <td>52.0</td>\n",
       "      <td>97.0</td>\n",
       "      <td>1246.0</td>\n",
       "    </tr>\n",
       "  </tbody>\n",
       "</table>\n",
       "</div>"
      ],
      "text/plain": [
       "              count       mean        std   min   25%   50%   75%     max\n",
       "Furnishing                                                               \n",
       "Furnished    1061.0  72.263902  60.388117  12.0  31.0  54.0  91.0   465.0\n",
       "Unfurnished  3939.0  76.261234  75.721369  12.0  30.0  52.0  97.0  1246.0"
      ]
     },
     "execution_count": 132,
     "metadata": {},
     "output_type": "execute_result"
    }
   ],
   "source": [
    "# f) Give the summary statistics of the “Age_of_listing_in_days” by the variable “Furnishing”?\n",
    "#      i. Compare the mean values of the age of listing for furnished and unfurnished properties. Which type of properties has longer listing.\n",
    "#      ii. Calculate the coefficient of variation of the age of listing for the two furnishing categories and discuss the results.\n",
    "#      iii. Construct the 95% confidence interval for the ratio of variances of the age of listing for furnished and unfurnished properties. What do you conclude?\n",
    "#      iv. Based on the result in part iii., construct the 95% confidence interval for the difference in the mean age of listing of the two groups of properties ( 1 2   − ). Based on the interval, can you conclude that mean age of listing is significantly different for the two groups? Explain how it is different.\n",
    "\n",
    "summary_stats = sampled_data.groupby('Furnishing')['Age_of_listing_in_days'].describe()\n",
    "summary_stats\n",
    "\n"
   ]
  },
  {
   "cell_type": "code",
   "execution_count": 133,
   "id": "8ccb49b0",
   "metadata": {},
   "outputs": [],
   "source": [
    "mean_furnished = summary_stats.loc['Furnished', 'mean']\n",
    "mean_unfurnished = summary_stats.loc['Unfurnished', 'mean']\n",
    "std_furnished = summary_stats.loc['Furnished', 'std']\n",
    "std_unfurnished = summary_stats.loc['Unfurnished', 'std']\n",
    "n_furnished = summary_stats.loc['Furnished', 'count']\n",
    "n_unfurnished = summary_stats.loc['Unfurnished', 'count']"
   ]
  },
  {
   "cell_type": "code",
   "execution_count": 134,
   "id": "e054f756",
   "metadata": {},
   "outputs": [
    {
     "name": "stdout",
     "output_type": "stream",
     "text": [
      "Furnished mean is:  72.26390197926484 Unfurnished mean is:  76.26123381568927\n"
     ]
    }
   ],
   "source": [
    "print (\"Furnished mean is: \", mean_furnished, \"Unfurnished mean is: \",mean_unfurnished)\n",
    "#Clerly the unfurnished mean age listing is higher."
   ]
  },
  {
   "cell_type": "code",
   "execution_count": 135,
   "id": "7672efe3",
   "metadata": {},
   "outputs": [
    {
     "name": "stdout",
     "output_type": "stream",
     "text": [
      "CV Furnished: 0.8356608897701077 CV Unfurnished: 0.9929208550853138\n"
     ]
    }
   ],
   "source": [
    "# Coefficient of Variation\n",
    "cv_furnished = std_furnished / mean_furnished\n",
    "cv_unfurnished = std_unfurnished / mean_unfurnished\n",
    "print(\"CV Furnished:\", cv_furnished,\"CV Unfurnished:\",cv_unfurnished)\n",
    "\n",
    "#Unfurnished properties have a more variable age of listing"
   ]
  },
  {
   "cell_type": "code",
   "execution_count": 136,
   "id": "eb5668b3",
   "metadata": {},
   "outputs": [
    {
     "name": "stdout",
     "output_type": "stream",
     "text": [
      "95% CI for Ratio of Variances 1.4265241735387044 ,  1.7283114996850966\n"
     ]
    }
   ],
   "source": [
    "\n",
    "# 95% CI for ratio of variances\n",
    "f_statistic = (std_unfurnished ** 2) / (std_furnished ** 2)\n",
    "dof_num = n_unfurnished - 1\n",
    "dof_den = n_furnished - 1\n",
    "alpha = 0.05\n",
    "f_critical_low = ss.f.ppf(alpha / 2, dof_num, dof_den)\n",
    "f_critical_high = ss.f.ppf(1 - alpha / 2, dof_num, dof_den)\n",
    "ci_var_low = f_statistic / f_critical_high\n",
    "ci_var_high = f_statistic / f_critical_low\n",
    "print(\"95% CI for Ratio of Variances\",ci_var_low,\", \",ci_var_high)\n",
    "# Since 1 is not in the interval, we conclude the variances of furnished and unfurnished apartments are not equal \n"
   ]
  },
  {
   "cell_type": "code",
   "execution_count": 157,
   "id": "4eb28820",
   "metadata": {},
   "outputs": [
    {
     "name": "stdout",
     "output_type": "stream",
     "text": [
      "95% CI for Difference in Means: -0.33904767291933346 ,  8.333711345768178\n"
     ]
    }
   ],
   "source": [
    "# 95% CI for difference in means large samples since variances are not equal\n",
    "mean_diff = mean_unfurnished - mean_furnished\n",
    "\n",
    "t=ss.t.ppf(1-alpha/2,n_furnished+n_unfurnished-2)\n",
    "margin=t*((std_furnished ** 2/n_furnished)+(std_unfurnished**2/n_unfurnished))**(1/2)\n",
    "\n",
    "ci_diff_low = mean_diff - margin\n",
    "ci_diff_high = mean_diff + margin\n",
    "print(\"95% CI for Difference in Means:\",ci_diff_low,\", \", ci_diff_high)\n",
    "#The difference in means has 0, therefore we conclude that the means for furnished and unfurnished are the same, no significant difference"
   ]
  },
  {
   "cell_type": "code",
   "execution_count": 139,
   "id": "64dd5eec",
   "metadata": {},
   "outputs": [
    {
     "data": {
      "text/plain": [
       "((array([-3.63568806, -3.40036853, -3.27067228, ...,  3.27067228,\n",
       "          3.40036853,  3.63568806]),\n",
       "  array([      0,   10000,   11000, ..., 2950000, 4000000, 4750000],\n",
       "        dtype=int64)),\n",
       " (135329.60148020549, 143657.0206, 0.6632065674338472))"
      ]
     },
     "execution_count": 139,
     "metadata": {},
     "output_type": "execute_result"
    },
    {
     "data": {
      "image/png": "[encoded data removed]",
      "text/plain": [
       "<Figure size 432x288 with 1 Axes>"
      ]
     },
     "metadata": {
      "needs_background": "light"
     },
     "output_type": "display_data"
    }
   ],
   "source": [
    "dfs=sampled_data #alias used by second group member\n",
    "ss.probplot(dfs[\"Rent\"],dist=\"norm\",plot=plt)\n",
    "#QQ plot with normal distribution, the points clearly dont follow the normal line, so distributon of rent is not normal"
   ]
  },
  {
   "cell_type": "code",
   "execution_count": 19,
   "id": "0cc1ba71",
   "metadata": {},
   "outputs": [
    {
     "data": {
      "text/plain": [
       "<AxesSubplot:>"
      ]
     },
     "execution_count": 19,
     "metadata": {},
     "output_type": "execute_result"
    },
    {
     "data": {
      "image/png": "[encoded data removed]",
      "text/plain": [
       "<Figure size 432x288 with 1 Axes>"
      ]
     },
     "metadata": {
      "needs_background": "light"
     },
     "output_type": "display_data"
    }
   ],
   "source": [
    "dfs[\"Rent\"].hist(bins=50) #verified not normal"
   ]
  },
  {
   "cell_type": "code",
   "execution_count": 140,
   "id": "a93d1467",
   "metadata": {},
   "outputs": [
    {
     "data": {
      "text/html": [
       "<div>\n",
       "<style scoped>\n",
       "    .dataframe tbody tr th:only-of-type {\n",
       "        vertical-align: middle;\n",
       "    }\n",
       "\n",
       "    .dataframe tbody tr th {\n",
       "        vertical-align: top;\n",
       "    }\n",
       "\n",
       "    .dataframe thead th {\n",
       "        text-align: right;\n",
       "    }\n",
       "</style>\n",
       "<table border=\"1\" class=\"dataframe\">\n",
       "  <thead>\n",
       "    <tr style=\"text-align: right;\">\n",
       "      <th></th>\n",
       "      <th>Rent</th>\n",
       "      <th>Beds</th>\n",
       "      <th>Baths</th>\n",
       "      <th>Area_in_sqft</th>\n",
       "      <th>Rent_per_sqft</th>\n",
       "      <th>Age_of_listing_in_days</th>\n",
       "    </tr>\n",
       "  </thead>\n",
       "  <tbody>\n",
       "    <tr>\n",
       "      <th>Rent</th>\n",
       "      <td>1.000000</td>\n",
       "      <td>0.438986</td>\n",
       "      <td>0.107856</td>\n",
       "      <td>0.545668</td>\n",
       "      <td>0.406951</td>\n",
       "      <td>0.019600</td>\n",
       "    </tr>\n",
       "    <tr>\n",
       "      <th>Beds</th>\n",
       "      <td>0.438986</td>\n",
       "      <td>1.000000</td>\n",
       "      <td>0.749492</td>\n",
       "      <td>0.740505</td>\n",
       "      <td>-0.189455</td>\n",
       "      <td>0.058163</td>\n",
       "    </tr>\n",
       "    <tr>\n",
       "      <th>Baths</th>\n",
       "      <td>0.107856</td>\n",
       "      <td>0.749492</td>\n",
       "      <td>1.000000</td>\n",
       "      <td>0.575178</td>\n",
       "      <td>-0.261092</td>\n",
       "      <td>0.064046</td>\n",
       "    </tr>\n",
       "    <tr>\n",
       "      <th>Area_in_sqft</th>\n",
       "      <td>0.545668</td>\n",
       "      <td>0.740505</td>\n",
       "      <td>0.575178</td>\n",
       "      <td>1.000000</td>\n",
       "      <td>-0.206348</td>\n",
       "      <td>0.026520</td>\n",
       "    </tr>\n",
       "    <tr>\n",
       "      <th>Rent_per_sqft</th>\n",
       "      <td>0.406951</td>\n",
       "      <td>-0.189455</td>\n",
       "      <td>-0.261092</td>\n",
       "      <td>-0.206348</td>\n",
       "      <td>1.000000</td>\n",
       "      <td>-0.037896</td>\n",
       "    </tr>\n",
       "    <tr>\n",
       "      <th>Age_of_listing_in_days</th>\n",
       "      <td>0.019600</td>\n",
       "      <td>0.058163</td>\n",
       "      <td>0.064046</td>\n",
       "      <td>0.026520</td>\n",
       "      <td>-0.037896</td>\n",
       "      <td>1.000000</td>\n",
       "    </tr>\n",
       "  </tbody>\n",
       "</table>\n",
       "</div>"
      ],
      "text/plain": [
       "                            Rent      Beds     Baths  Area_in_sqft  \\\n",
       "Rent                    1.000000  0.438986  0.107856      0.545668   \n",
       "Beds                    0.438986  1.000000  0.749492      0.740505   \n",
       "Baths                   0.107856  0.749492  1.000000      0.575178   \n",
       "Area_in_sqft            0.545668  0.740505  0.575178      1.000000   \n",
       "Rent_per_sqft           0.406951 -0.189455 -0.261092     -0.206348   \n",
       "Age_of_listing_in_days  0.019600  0.058163  0.064046      0.026520   \n",
       "\n",
       "                        Rent_per_sqft  Age_of_listing_in_days  \n",
       "Rent                         0.406951                0.019600  \n",
       "Beds                        -0.189455                0.058163  \n",
       "Baths                       -0.261092                0.064046  \n",
       "Area_in_sqft                -0.206348                0.026520  \n",
       "Rent_per_sqft                1.000000               -0.037896  \n",
       "Age_of_listing_in_days      -0.037896                1.000000  "
      ]
     },
     "execution_count": 140,
     "metadata": {},
     "output_type": "execute_result"
    },
    {
     "data": {
      "image/png": "[encoded data removed]",
      "text/plain": [
       "<Figure size 1440x720 with 2 Axes>"
      ]
     },
     "metadata": {
      "needs_background": "light"
     },
     "output_type": "display_data"
    }
   ],
   "source": [
    "plt.figure(figsize=(20,10))\n",
    "cr=dfs.corr()\n",
    "sns.heatmap(cr,cmap=\"viridis\",annot=True)\n",
    "cr\n",
    "#Baths and beds are most correlated\n",
    "#Age of listing and rent are least correlated"
   ]
  },
  {
   "cell_type": "code",
   "execution_count": 151,
   "id": "2a864211",
   "metadata": {},
   "outputs": [
    {
     "name": "stdout",
     "output_type": "stream",
     "text": [
      "Chi squared calculated = 1492.088967213206\n"
     ]
    }
   ],
   "source": [
    "dfs[\"count\"]=1\n",
    "rc=dfs.pivot_table(index=\"Rent_category\",columns=\"City\",values=\"count\",aggfunc=\"count\",fill_value=0,margins=True)\n",
    "arr=[]\n",
    "for x in rc:\n",
    "    if x==\"All\":\n",
    "        break\n",
    "    for i in range(0,len(rc)-1):\n",
    "        arr.append(((rc[x].iloc[i]-(rc[x][\"All\"]*rc[\"All\"].iloc[i])/rc[\"All\"][\"All\"])**2)/((rc[x][\"All\"]*rc[\"All\"].iloc[i])/rc[\"All\"][\"All\"]))\n",
    "chi=np.sum(arr)\n",
    "print (\"Chi squared calculated =\", chi)"
   ]
  },
  {
   "cell_type": "code",
   "execution_count": 152,
   "id": "c907c72b",
   "metadata": {},
   "outputs": [],
   "source": [
    "#H0 : rent category and city are independent variables\n",
    "#Ha: rent category and city are not independent\n",
    "#calculated chi squared = 1492\n",
    "#threshold chi squared from table with alpha=0.05 and df=(3-1)(8-1)=14 is 23.68,\n",
    "#since 1492>23, we reject H0 and conclude the variables are not independent of each other. \n"
   ]
  },
  {
   "cell_type": "code",
   "execution_count": 153,
   "id": "130e1bb9",
   "metadata": {},
   "outputs": [
    {
     "name": "stdout",
     "output_type": "stream",
     "text": [
      "Chi squared calculated = 193.39673468611662\n"
     ]
    }
   ],
   "source": [
    "dfs[\"count\"]=1\n",
    "rc=dfs.pivot_table(index=\"Rent_category\",columns=\"Furnishing\",values=\"count\",aggfunc=\"count\",fill_value=0,margins=True)\n",
    "arr=[]\n",
    "for x in rc:\n",
    "    if x==\"All\":\n",
    "        break\n",
    "    for i in range(0,len(rc)-1):\n",
    "        arr.append(((rc[x].iloc[i]-(rc[x][\"All\"]*rc[\"All\"].iloc[i])/rc[\"All\"][\"All\"])**2)/((rc[x][\"All\"]*rc[\"All\"].iloc[i])/rc[\"All\"][\"All\"]))\n",
    "chi2=np.sum(arr)\n",
    "print (\"Chi squared calculated =\", chi2)"
   ]
  },
  {
   "cell_type": "code",
   "execution_count": 154,
   "id": "9fad1692",
   "metadata": {},
   "outputs": [],
   "source": [
    "#H0 : Furnishing and rent category are independent variables\n",
    "#Ha: Furnishing and rent category are not independent\n",
    "#calculated chi squared = 193.4\n",
    "#threshold chi squared from table with alpha=0.05 and df=(3-1)(3-1)=4 is 9.48,\n",
    "#since 193.4>9.48, we reject H0 and conclude the variables are not independent of each other. \n"
   ]
  },
  {
   "cell_type": "code",
   "execution_count": 158,
   "id": "ba443104",
   "metadata": {},
   "outputs": [],
   "source": [
    "dfs[\"Type\"],_=pd.factorize(dfs[\"Type\"])\n",
    "dfs[\"Rent_category\"],_=pd.factorize(dfs[\"Rent_category\"])\n",
    "training_data=dfs.sample(frac=0.7,random_state=2)\n",
    "testing_data=dfs.drop(training_data.index)\n",
    "\n",
    "from sklearn.naive_bayes import GaussianNB\n",
    "gnb=GaussianNB()\n",
    "train_x=training_data[[\"Rent\",\"Beds\",\"Baths\",\"Type\",\"Area_in_sqft\",\"Rent_category\",\"Age_of_listing_in_days\"]]\n",
    "train_y=training_data[\"Furnishing\"]\n",
    "model=gnb.fit(train_x,train_y)\n"
   ]
  },
  {
   "cell_type": "code",
   "execution_count": 159,
   "id": "39ac9158",
   "metadata": {},
   "outputs": [
    {
     "name": "stdout",
     "output_type": "stream",
     "text": [
      "Misclassification Rate: 21.866666666666667 %\n"
     ]
    },
    {
     "data": {
      "text/plain": [
       "array([[  13,  313],\n",
       "       [  15, 1159]], dtype=int64)"
      ]
     },
     "execution_count": 159,
     "metadata": {},
     "output_type": "execute_result"
    }
   ],
   "source": [
    "from sklearn.metrics import accuracy_score\n",
    "from sklearn.metrics import confusion_matrix\n",
    "import seaborn as sb\n",
    "test_x=testing_data[[\"Rent\",\"Beds\",\"Baths\",\"Type\",\"Area_in_sqft\",\"Rent_category\",\"Age_of_listing_in_days\"]]\n",
    "test_y=testing_data[\"Furnishing\"]\n",
    "pred_y=model.predict(test_x)\n",
    "accuracy=accuracy_score(test_y,pred_y)\n",
    "misclassificationRate=1-accuracy\n",
    "print(\"Misclassification Rate:\",misclassificationRate*100,\"%\")\n",
    "confusion_matrix(test_y, pred_y)\n",
    "#The vast majority of apartments are not furnished and classified correctly as shown in the confusion matrix,\n",
    "#this imbalance of classes in the data makes the model biased towards predicting not furnished,\n",
    "# and this is the cause of the majority(313) of misclassifications where the model predicts unfurnished\n",
    "#when the apartment is actually furnished. This is the major cause that reduces the accuracy of the model"
   ]
  },
  {
   "cell_type": "code",
   "execution_count": 160,
   "id": "2ddf8fd8",
   "metadata": {},
   "outputs": [],
   "source": [
    "import statsmodels.api as sm\n",
    "from sklearn.model_selection import train_test_split\n",
    "from sklearn.linear_model import LinearRegression"
   ]
  },
  {
   "cell_type": "code",
   "execution_count": 237,
   "id": "4c028567",
   "metadata": {},
   "outputs": [
    {
     "data": {
      "image/png": "[encoded data removed]",
      "text/plain": [
       "<Figure size 576x432 with 1 Axes>"
      ]
     },
     "metadata": {
      "needs_background": "light"
     },
     "output_type": "display_data"
    }
   ],
   "source": [
    "#o) Assuming \"area_in_sqft\" is the independent variable (X) and \"rent\" is the dependent variabl\n",
    "X_train = training_data['Area_in_sqft']\n",
    "Y_train = training_data['Rent']\n",
    "X_test = testing_data['Area_in_sqft']\n",
    "Y_test= testing_data['Rent']\n",
    "plt.figure(figsize=(8,6))\n",
    "sns.scatterplot(x=X_train, y=Y_train)\n",
    "plt.title(\"Rent vs Area (sqft)\")\n",
    "plt.xlabel(\"Area (sqft)\")\n",
    "plt.ylabel(\"Rent\")\n",
    "plt.show()"
   ]
  },
  {
   "cell_type": "code",
   "execution_count": 163,
   "id": "22118680",
   "metadata": {},
   "outputs": [],
   "source": [
    "#There appears to be a weak positive relationship betwen rent prices and area in sqft.\n",
    "#We can see that higher rent values are loosly associated with larger areas, \n",
    "#but the relationship does not appear to be linear or particularly strong.\n",
    "#There might be a confounding factor differentiating 2 lines with different slopes. \n",
    "#There are many outliers, across a wide range."
   ]
  },
  {
   "cell_type": "code",
   "execution_count": 251,
   "id": "f69340c3",
   "metadata": {},
   "outputs": [
    {
     "data": {
      "text/plain": [
       "106395895812874.81"
      ]
     },
     "execution_count": 251,
     "metadata": {},
     "output_type": "execute_result"
    }
   ],
   "source": [
    "# p) Simple linear regression\n",
    "model = LinearRegression()\n",
    "model.fit(X_train.values.reshape(-1,1), Y_train.values)\n",
    "Y_pred_train = model.predict(X_train.values.reshape(-1,1))\n",
    "rss=((Y_pred_train-Y_train)**2).sum()\n",
    "rss\n",
    "#rss of about 10^14"
   ]
  },
  {
   "cell_type": "code",
   "execution_count": 165,
   "id": "8803984d",
   "metadata": {},
   "outputs": [
    {
     "data": {
      "image/png": "[encoded data removed]",
      "text/plain": [
       "<Figure size 576x432 with 1 Axes>"
      ]
     },
     "metadata": {
      "needs_background": "light"
     },
     "output_type": "display_data"
    }
   ],
   "source": [
    "# Plot regression line\n",
    "plt.figure(figsize=(8,6))\n",
    "sns.scatterplot(x=X_train.values, y=Y_train)\n",
    "plt.plot(X_train, Y_pred_train, color='red')\n",
    "plt.title(\"Rent vs Area with Regression Line\")\n",
    "plt.xlabel(\"Area (sqft)\")\n",
    "plt.ylabel(\"Rent\")\n",
    "plt.show()"
   ]
  },
  {
   "cell_type": "code",
   "execution_count": 166,
   "id": "29132e10",
   "metadata": {},
   "outputs": [
    {
     "name": "stdout",
     "output_type": "stream",
     "text": [
      "R-squared:  0.2644166581921016\n",
      "Correlation coefficient:  0.5142146032466421\n"
     ]
    }
   ],
   "source": [
    "r_sq = model.score(X_train.values.reshape(-1,1), Y_train)\n",
    "correlation = np.sqrt(r_sq) * np.sign(model.coef_[0])\n",
    "print(\"R-squared: \",r_sq)\n",
    "print(\"Correlation coefficient: \",correlation)"
   ]
  },
  {
   "cell_type": "code",
   "execution_count": 167,
   "id": "c50aaaf8",
   "metadata": {},
   "outputs": [],
   "source": [
    "#R-squared tells us how much of the variation in the Y-variable results from variation in the X-variable. \n",
    "#The data above has a relatively low R-squared value of 0.236, which means that only 23.6% of change in rent prices \n",
    "#is a result of changes in area. The correlation coefficent of 0.486 shows us that there is a weak positive\n",
    "#correlation between the two variables."
   ]
  },
  {
   "cell_type": "code",
   "execution_count": 168,
   "id": "0e84397e",
   "metadata": {},
   "outputs": [
    {
     "name": "stdout",
     "output_type": "stream",
     "text": [
      "35.459970165359785  is calculated and this is greater than the table value of 1.96 at alpha=0.05 and df=4998\n",
      "p-value for correlation significance:  0.0\n"
     ]
    }
   ],
   "source": [
    "# Correlation significance test\n",
    "n = len(Y_train)\n",
    "t_stat = correlation * np.sqrt((n - 2) / (1 - correlation**2))\n",
    "p_value = 2 * (1 - ss.t.cdf(abs(t_stat), df=n-2))\n",
    "print(t_stat,\" is calculated and this is greater than the table value of 1.96 at alpha=0.05 and df=4998\")\n",
    "print(\"p-value for correlation significance: \",p_value)"
   ]
  },
  {
   "cell_type": "code",
   "execution_count": 170,
   "id": "8e4c0773",
   "metadata": {},
   "outputs": [],
   "source": [
    "#The test results in a final p-value of ~0 for the significance of the correlation coefficient. \n",
    "#This confirms that the coefficient is in fact significant"
   ]
  },
  {
   "cell_type": "code",
   "execution_count": 171,
   "id": "ea64d75e",
   "metadata": {},
   "outputs": [],
   "source": [
    "#lack of fit on minitab, we imported the data there"
   ]
  },
  {
   "cell_type": "code",
   "execution_count": 172,
   "id": "4bd1638b",
   "metadata": {},
   "outputs": [
    {
     "data": {
      "image/png": "[encoded data removed]",
      "text/plain": [
       "<Figure size 576x432 with 1 Axes>"
      ]
     },
     "metadata": {
      "needs_background": "light"
     },
     "output_type": "display_data"
    }
   ],
   "source": [
    "# s) Residual Analysis and Diagnostics\n",
    "residuals = Y_train - Y_pred_train\n",
    "\n",
    "#  Residuals vs Predictor (X)\n",
    "plt.figure(figsize=(8, 6))\n",
    "sns.scatterplot(x=X_train.to_numpy().flatten(), y=residuals)\n",
    "plt.axhline(0, color='r', linestyle='--')\n",
    "plt.title(\"Residuals vs Area (sqft)\")\n",
    "plt.xlabel(\"Area (sqft)\")\n",
    "plt.ylabel(\"Residuals\")\n",
    "plt.show()\n",
    "\n"
   ]
  },
  {
   "cell_type": "code",
   "execution_count": 173,
   "id": "2dfb97a1",
   "metadata": {},
   "outputs": [],
   "source": [
    "#Test for Linear relationship: This scatter plot visualizes the relationship between the independent variable X (Area) and the residuals. \n",
    "#For a linear relationship, there should be no systematic pattern in the residuals across the range of X.\n",
    "#We can see that this is clearly not the case, as the residuals seem to increase with x\n",
    "#around the zero line.\n",
    "\n",
    "#Test for Constant Residual Variance:\n",
    "\n",
    "#Once again we can see that the grpah is skewed and data is not normally distributed about the zero line, \n",
    "#this indicates that yet another assumption is violated. "
   ]
  },
  {
   "cell_type": "code",
   "execution_count": 174,
   "id": "204ba1ec",
   "metadata": {},
   "outputs": [
    {
     "name": "stderr",
     "output_type": "stream",
     "text": [
      "C:\\Users\\Maaz\\anaconda3\\lib\\site-packages\\statsmodels\\graphics\\gofplots.py:993: UserWarning: marker is redundantly defined by the 'marker' keyword argument and the fmt string \"bo\" (-> marker='o'). The keyword argument will take precedence.\n",
      "  ax.plot(x, y, fmt, **plot_style)\n"
     ]
    },
    {
     "data": {
      "image/png": "[encoded data removed]",
      "text/plain": [
       "<Figure size 432x288 with 1 Axes>"
      ]
     },
     "metadata": {
      "needs_background": "light"
     },
     "output_type": "display_data"
    }
   ],
   "source": [
    "# Create the QQ plot for normality check\n",
    "fig = sm.qqplot(residuals, line='45', fit=True)\n",
    "\n",
    "plt.xlabel(\"Theoretical Quantiles\", fontsize=12)\n",
    "plt.ylabel(\"Sample Quantiles\", fontsize=12)\n",
    "plt.title(\"Q-Q Plot of Residuals\", fontsize=14)\n",
    "plt.grid(True, linestyle='--', alpha=0.7)  "
   ]
  },
  {
   "cell_type": "code",
   "execution_count": 175,
   "id": "54668ef1",
   "metadata": {},
   "outputs": [],
   "source": [
    "#The Q-Q plot shows that the residuals deviate significantly from the red diagonal line, \n",
    "#especially in the tails. This indicates that the residuals are not normally distributed,\n",
    "#with potential outliers in the upper range. We can amend this by applying a log tranformation later on."
   ]
  },
  {
   "cell_type": "code",
   "execution_count": 181,
   "id": "46a2e43b",
   "metadata": {},
   "outputs": [
    {
     "name": "stdout",
     "output_type": "stream",
     "text": [
      "Mean of residuals:  1.7670182777302604e-11\n"
     ]
    }
   ],
   "source": [
    "# Check residual mean (should be close to 0)\n",
    "mean_residuals = np.mean(residuals)\n",
    "print(\"Mean of residuals: \", mean_residuals)"
   ]
  },
  {
   "cell_type": "code",
   "execution_count": 182,
   "id": "6a4d2dc3",
   "metadata": {},
   "outputs": [],
   "source": [
    "#The residual mean is very small and close to zero! For a good regression model, \n",
    "#the residuals should have an average (mean) close to zero.\n",
    "#This shows that model predictions, on average, are accurate.\n"
   ]
  },
  {
   "cell_type": "code",
   "execution_count": 231,
   "id": "4fd945c1",
   "metadata": {},
   "outputs": [
    {
     "data": {
      "image/png": "[encoded data removed]",
      "text/plain": [
       "<Figure size 576x432 with 1 Axes>"
      ]
     },
     "metadata": {
      "needs_background": "light"
     },
     "output_type": "display_data"
    }
   ],
   "source": [
    "# t) Remedies: Apply Log Transformation if needed\n",
    "X_log = np.log(X_train.values.reshape(-1, 1)) # Reshape X_log to a 2D array\n",
    "Y_log = np.log(Y_train.values.reshape(-1, 1)+.01) # Reshape Y_log to a 2D array, add .01 to avoid invalid logs when y is 0\n",
    "\n",
    "\n",
    "# Refit the linear model with log transformation\n",
    "reg_log = LinearRegression()\n",
    "reg_log.fit(X_log, Y_log)\n",
    "Y_log_pred = reg_log.predict(X_log)\n",
    "\n",
    "# Residuals for log model\n",
    "residuals_log = Y_log - Y_log_pred\n",
    "\n",
    "# Plot Residuals of log-transformed model\n",
    "plt.figure(figsize=(8, 6))\n",
    "sns.scatterplot(x=X_log.flatten(), y=residuals_log.flatten()) # Flatten residuals_log for plotting\n",
    "plt.axhline(0, color='r', linestyle='--')\n",
    "plt.title(\"Residuals of Log-Transformed Model\")\n",
    "plt.xlabel(\"Log(Area)\")\n",
    "plt.ylabel(\"Log(Rent) Residuals\")\n",
    "plt.show()\n",
    "\n",
    "# We used minitab for predicitons with improved equation to get PI and CI"
   ]
  },
  {
   "cell_type": "code",
   "execution_count": 257,
   "id": "c4bda390",
   "metadata": {},
   "outputs": [],
   "source": [
    "#After applying a log transformation, the data looks a lot healthier. \n",
    "#It is more normally distributed and roughly equally distributed above and below the zero line, \n",
    "#suggesting that it confirms with model assumptions."
   ]
  },
  {
   "cell_type": "code",
   "execution_count": 261,
   "id": "a19507bc",
   "metadata": {},
   "outputs": [
    {
     "data": {
      "image/png": "[encoded data removed]",
      "text/plain": [
       "<Figure size 576x432 with 1 Axes>"
      ]
     },
     "metadata": {
      "needs_background": "light"
     },
     "output_type": "display_data"
    }
   ],
   "source": [
    "plt.figure(figsize=(8, 6))\n",
    "sns.scatterplot(x=X_log.flatten(), y=Y_log.flatten()) \n",
    "plt.plot(X_log.flatten(), Y_log_pred, color='red')\n",
    "plt.title(\"Log transformation results\")\n",
    "plt.xlabel(\"Log(Area)\")\n",
    "plt.ylabel(\"Log(Rent) \")\n",
    "plt.show()\n",
    "#As can be seen below, results of linear regression have greatly improved"
   ]
  },
  {
   "cell_type": "code",
   "execution_count": 252,
   "id": "6a0c4390",
   "metadata": {},
   "outputs": [
    {
     "data": {
      "image/png": "[encoded data removed]",
      "text/plain": [
       "<Figure size 576x432 with 1 Axes>"
      ]
     },
     "metadata": {
      "needs_background": "light"
     },
     "output_type": "display_data"
    },
    {
     "data": {
      "text/plain": [
       "40018440088418.12"
      ]
     },
     "execution_count": 252,
     "metadata": {},
     "output_type": "execute_result"
    }
   ],
   "source": [
    "#v) Use the regression equation in part p) to predict the Y for the values of X\n",
    "#in the testing dataset. Calculate the sum of squared prediction error (SSE) and compare it the\n",
    "#SSE obtained in the model fit in part p)?Y_pred_test = model.predict(X_test.values.reshape(-1,1))\n",
    "\n",
    "plt.figure(figsize=(8,6))\n",
    "sns.scatterplot(x=X_test.values, y=Y_test)\n",
    "plt.plot(X_test, Y_pred_test, color='red')\n",
    "plt.title(\"Rent vs Area with Regression Line\")\n",
    "plt.xlabel(\"Area (sqft)\")\n",
    "plt.ylabel(\"Rent\")\n",
    "plt.show()\n",
    "#b) Results\n",
    "rss=((Y_pred_test-Y_test)**2).sum()\n",
    "rss\n",
    "#rss is 4x10^13 in comparison to 10^14 in part p and this makes sense as testing values are fewer in number\n"
   ]
  },
  {
   "cell_type": "code",
   "execution_count": 253,
   "id": "ec2d0c95",
   "metadata": {},
   "outputs": [],
   "source": [
    "X_center=X_train-X_train.mean()#centralizing x and y"
   ]
  },
  {
   "cell_type": "code",
   "execution_count": 254,
   "id": "05549cc8",
   "metadata": {},
   "outputs": [],
   "source": [
    "Y_center=Y_train-Y_train.mean()"
   ]
  },
  {
   "cell_type": "code",
   "execution_count": 255,
   "id": "11d978b4",
   "metadata": {},
   "outputs": [],
   "source": [
    "df=pd.concat([X_center,Y_center], axis=1) #making excel file to export to minitab with new centralized values"
   ]
  },
  {
   "cell_type": "code",
   "execution_count": 256,
   "id": "526854bc",
   "metadata": {},
   "outputs": [],
   "source": [
    "df.to_excel(\"centralized.xlsx\")"
   ]
  },
  {
   "cell_type": "code",
   "execution_count": null,
   "id": "b0210bd0",
   "metadata": {},
   "outputs": [],
   "source": []
  }
 ],
 "metadata": {
  "kernelspec": {
   "display_name": "Python 3 (ipykernel)",
   "language": "python",
   "name": "python3"
  },
  "language_info": {
   "codemirror_mode": {
    "name": "ipython",
    "version": 3
   },
   "file_extension": ".py",
   "mimetype": "text/x-python",
   "name": "python",
   "nbconvert_exporter": "python",
   "pygments_lexer": "ipython3",
   "version": "3.9.7"
  }
 },
 "nbformat": 4,
 "nbformat_minor": 5
}
